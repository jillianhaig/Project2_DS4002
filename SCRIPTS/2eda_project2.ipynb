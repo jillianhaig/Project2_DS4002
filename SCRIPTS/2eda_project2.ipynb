{
  "nbformat": 4,
  "nbformat_minor": 0,
  "metadata": {
    "colab": {
      "provenance": [],
      "authorship_tag": "ABX9TyOPQfyKMKWtKY74WDrIP7Ki",
      "include_colab_link": true
    },
    "kernelspec": {
      "name": "python3",
      "display_name": "Python 3"
    },
    "language_info": {
      "name": "python"
    }
  },
  "cells": [
    {
      "cell_type": "markdown",
      "metadata": {
        "id": "view-in-github",
        "colab_type": "text"
      },
      "source": [
        "<a href=\"https://colab.research.google.com/github/jillianhaig/Project2_DS4002/blob/main/SCRIPTS/2eda_project2.ipynb\" target=\"_parent\"><img src=\"https://colab.research.google.com/assets/colab-badge.svg\" alt=\"Open In Colab\"/></a>"
      ]
    },
    {
      "cell_type": "code",
      "execution_count": null,
      "metadata": {
        "id": "ij10yXRz-MZx"
      },
      "outputs": [],
      "source": [
        "! git clone https://github.com/jillianhaig/Project2_DS4002 # so we can access data loaded from shared github"
      ]
    },
    {
      "cell_type": "code",
      "source": [
        "import pandas as pd\n",
        "import seaborn as sns\n",
        "import matplotlib.pyplot as plt\n",
        "import numpy as np"
      ],
      "metadata": {
        "id": "YJRw5laJ-VSo"
      },
      "execution_count": null,
      "outputs": []
    },
    {
      "cell_type": "code",
      "source": [
        "hurricane_data = pd.read_csv()"
      ],
      "metadata": {
        "id": "FW2cEu4f-2S6"
      },
      "execution_count": null,
      "outputs": []
    },
    {
      "cell_type": "code",
      "source": [
        "# atlantic trend\n",
        "sns.scatterplot(data=hurricane_data, x='Year', y='Hurricane_Days', color='blue')\n",
        "sns.regplot(data=hurricane_data, x='Year', y='Hurricane_Days',\n",
        "            scatter_kws={'color': 'blue', 's': 100},\n",
        "            line_kws={'color': 'red'})"
      ],
      "metadata": {
        "id": "bTZFFRTY-XRc"
      },
      "execution_count": null,
      "outputs": []
    },
    {
      "cell_type": "code",
      "source": [
        "# pacific trend\n",
        "sns.scatterplot(data=hurricane_data, x='Year', y='Pacific_Hurricane_Days', color='blue')\n",
        "sns.regplot(data=hurricane_data, x='Year', y='Pacific_Hurricane_Days',\n",
        "            scatter_kws={'color': 'blue', 's': 100},\n",
        "            line_kws={'color': 'red'})"
      ],
      "metadata": {
        "id": "APap9mO6-djA"
      },
      "execution_count": null,
      "outputs": []
    },
    {
      "cell_type": "code",
      "source": [
        "# atlantic + pacific trend\n",
        "sns.scatterplot(data=hurricane_data, x='Year', y='Total_Hurricane_Days', color='blue')\n",
        "sns.regplot(data=hurricane_data, x='Year', y='Total_Hurricane_Days',\n",
        "            scatter_kws={'color': 'blue', 's': 100},\n",
        "            line_kws={'color': 'red'})"
      ],
      "metadata": {
        "id": "qFj-rYL2-jdp"
      },
      "execution_count": null,
      "outputs": []
    }
  ]
}